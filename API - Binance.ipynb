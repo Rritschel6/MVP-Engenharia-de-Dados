{
 "cells": [
  {
   "cell_type": "markdown",
   "metadata": {},
   "source": [
    "# Importando as bibliotecas necessárias"
   ]
  },
  {
   "cell_type": "code",
   "execution_count": 49,
   "metadata": {},
   "outputs": [],
   "source": [
    "from binance import Client\n",
    "import pandas as pd\n",
    "import time\n",
    "import datetime\n",
    "import matplotlib.pyplot as plt\n",
    "import mplfinance as mpf"
   ]
  },
  {
   "cell_type": "markdown",
   "metadata": {},
   "source": [
    "# Setando a autenticação da API"
   ]
  },
  {
   "cell_type": "code",
   "execution_count": 50,
   "metadata": {},
   "outputs": [],
   "source": [
    "#Coloque seu token de autenticação aqui\n",
    "\n",
    "API_Key= ''\n",
    "    \n",
    "API_Secret= ''\n",
    "\n",
    "client = Client(API_Key,API_Secret)"
   ]
  },
  {
   "cell_type": "markdown",
   "metadata": {},
   "source": [
    "# Setando as datas de início e fim do estudo"
   ]
  },
  {
   "cell_type": "code",
   "execution_count": 51,
   "metadata": {},
   "outputs": [],
   "source": [
    "#timestamp das datas 11/06/2024 a 26/06/2024:\n",
    "\n",
    "start_time = 1718064000000\n",
    "\n",
    "end_time = 1719360000000"
   ]
  },
  {
   "cell_type": "markdown",
   "metadata": {},
   "source": [
    "# Obtendo os dados de preço do BTC no intervalo desejado"
   ]
  },
  {
   "cell_type": "code",
   "execution_count": 52,
   "metadata": {},
   "outputs": [],
   "source": [
    "#envio de requisição ao client da Binance dos dados do mercado futuro para o ativo BTC/USDT no intervalo gráfico de 5min para o período desejado \n",
    "klines_five = client.futures_historical_klines(\"BTCUSDT\", \"5m\",start_str=start_time,end_str=end_time)\n",
    "\n",
    "#transformação dos dados em formato json para dataframe\n",
    "df_price = pd.DataFrame(klines_five)\n",
    "\n",
    "#remoção de colunas não desejadas\n",
    "df_price = df_price.drop([6,7,8,9,10,11],axis=1)\n",
    "\n",
    "#renomear os números de colunas\n",
    "df_price = df_price.rename(columns={0:'Open Time',1:'Open',2:'High',3:'Low',4:'Close',5:'Volume'})\n",
    "\n",
    "#transformação dos tipos de dados\n",
    "df_price[['Open','High','Low','Close','Volume']] = df_price[['Open','High','Low','Close','Volume']].astype(float)\n",
    "\n",
    "#transformação do dado de data/hora\n",
    "df_price['Open Time'] =  df_price['Open Time'].astype('datetime64[ms]')\n",
    "\n",
    "#Salvando os dados em um arquivo csv\n",
    "df_price.to_excel(r'C:\\Users\\rober\\Documents\\price_data.xlsx',index=False)"
   ]
  },
  {
   "cell_type": "markdown",
   "metadata": {},
   "source": [
    "# Obtendo os dados do Indicador Long/Short Ratio"
   ]
  },
  {
   "cell_type": "code",
   "execution_count": 53,
   "metadata": {},
   "outputs": [],
   "source": [
    "# Definindo os parâmetros\n",
    "symbol = \"BTCUSDT\"\n",
    "interval = '5m'\n",
    "\n",
    "#Limite de registros por requisição (máx: 500)\n",
    "limit = 500 \n",
    "\n",
    "#Limite de requisições por minuto\n",
    "requests_per_minute = 1200  \n",
    "\n",
    "#Tempo de espera entre as requisições\n",
    "sleep_time = 60 / requests_per_minute  \n",
    "\n",
    "#Função para obter o long/short ratio\n",
    "def get_longshort_ratio(client, symbol, start_time, end_time, interval, limit=500):\n",
    "    ratio = client.futures_global_longshort_ratio(symbol=symbol, period=interval, startTime=start_time, endTime=end_time, limit=limit)\n",
    "    return ratio\n",
    "\n",
    "#Lista para armazenar todos os dados\n",
    "all_ratios = []\n",
    "\n",
    "#Início da iteração com start_time e end_time ajustados\n",
    "current_start_time = start_time\n",
    "\n",
    "while current_start_time < end_time:\n",
    "    #Definir o próximo end_time baseado no intervalo e limite\n",
    "    current_end_time = min(current_start_time + limit * 300000, end_time)  # 300000 ms = 5 minutos\n",
    "\n",
    "    #Obter os dados do long/short ratio\n",
    "    ratios = get_longshort_ratio(client, symbol, current_start_time, current_end_time, interval, limit)\n",
    "\n",
    "    if not ratios:\n",
    "        break\n",
    "\n",
    "    #Adicionar dados ao conjunto de todos os dados\n",
    "    all_ratios.extend(ratios)\n",
    "    \n",
    "    #Atualizar o start_time para a próxima iteração\n",
    "    current_start_time = current_end_time\n",
    "\n",
    "    #Aguardar antes de fazer a próxima requisição para respeitar a limitação\n",
    "    time.sleep(sleep_time)\n",
    "\n",
    "#Convertendo os dados para DataFrame\n",
    "ratios_df = pd.DataFrame(all_ratios)\n",
    "\n",
    "#Renomeando as colunas, se necessário\n",
    "ratios_df = ratios_df.rename(columns={\n",
    "    'longShortRatio': 'Long/Short Ratio',\n",
    "    'longAccount': 'Long Account',\n",
    "    'shortAccount': 'Short Account',\n",
    "    'timestamp': 'Timestamp'\n",
    "})\n",
    "# Ajustar os tipos de dados do DataFrame final\n",
    "ratios_df['Timestamp'] = pd.to_datetime(ratios_df['Timestamp'], unit='ms')\n",
    "\n",
    "#renomeia a coluna\n",
    "ratios_df = ratios_df.rename(columns={'Timestamp':'Datetime'})\n",
    "                             \n",
    "#Salvando os dados em um arquivo csv\n",
    "ratios_df.to_excel(r'C:\\Users\\rober\\Documents\\longshort_ratio.xlsx',index=False)\n"
   ]
  },
  {
   "cell_type": "markdown",
   "metadata": {},
   "source": [
    "# Obtendo os dados do Open Interest"
   ]
  },
  {
   "cell_type": "code",
   "execution_count": 54,
   "metadata": {},
   "outputs": [],
   "source": [
    "#Função para converter data para timestamp\n",
    "def date_to_timestamp(date_str):\n",
    "    return int(pd.Timestamp(date_str).timestamp() * 1000)\n",
    "\n",
    "#Parâmetros\n",
    "symbol = \"BTCUSDT\"\n",
    "interval = \"5m\"\n",
    "start_date = \"2024-06-11\"\n",
    "end_date = \"2024-06-26\"\n",
    "limit = 500\n",
    "one_day = 1440 * 60 * 1000  #1440 minutos em milissegundos\n",
    "\n",
    "#Convertendo datas para timestamps\n",
    "start_timestamp = date_to_timestamp(start_date)\n",
    "end_timestamp = date_to_timestamp(end_date)\n",
    "\n",
    "#DataFrame para armazenar os dados\n",
    "all_data = pd.DataFrame()\n",
    "\n",
    "#Iterando pelas requisições para obter todos os dados no intervalo desejado\n",
    "current_start_timestamp = start_timestamp\n",
    "while current_start_timestamp < end_timestamp:\n",
    "    current_end_timestamp = min(current_start_timestamp + one_day, end_timestamp)\n",
    "\n",
    "    #Obter os dados da API\n",
    "    data = client.futures_open_interest_hist(\n",
    "        symbol=symbol,\n",
    "        period=interval,\n",
    "        startTime=current_start_timestamp,\n",
    "        endTime=current_end_timestamp,\n",
    "        limit=limit\n",
    "    )\n",
    "    \n",
    "    if not data:\n",
    "        break\n",
    "\n",
    "    #Converter para DataFrame\n",
    "    df = pd.DataFrame(data)\n",
    "\n",
    "    #Concatenar com o DataFrame total\n",
    "    all_data = pd.concat([all_data, df], ignore_index=True)\n",
    "\n",
    "    #Atualizar o current_start_timestamp para a próxima iteração\n",
    "    current_start_timestamp = current_end_timestamp + 1\n",
    "\n",
    "    #Pausa para respeitar limites de requisições\n",
    "    time.sleep(1)\n",
    "\n",
    "#Ajustar os tipos de dados do DataFrame final\n",
    "all_data['timestamp'] = pd.to_datetime(all_data['timestamp'], unit='ms')\n",
    "\n",
    "#Renomeia a coluna timestamp para o novo formato datetime\n",
    "all_data = all_data.rename(columns={'timestamp':'Datetime'})\n",
    "\n",
    "#Remove os valores duplicados\n",
    "all_data = all_data.drop_duplicates()\n",
    "\n",
    "#Exportar o DataFrame para um arquivo csv\n",
    "all_data.to_excel(r'C:\\Users\\rober\\Documents\\open_interest.xlsx',index=False)"
   ]
  }
 ],
 "metadata": {
  "kernelspec": {
   "display_name": "Python 3",
   "language": "python",
   "name": "python3"
  },
  "language_info": {
   "codemirror_mode": {
    "name": "ipython",
    "version": 3
   },
   "file_extension": ".py",
   "mimetype": "text/x-python",
   "name": "python",
   "nbconvert_exporter": "python",
   "pygments_lexer": "ipython3",
   "version": "3.11.9"
  }
 },
 "nbformat": 4,
 "nbformat_minor": 2
}
