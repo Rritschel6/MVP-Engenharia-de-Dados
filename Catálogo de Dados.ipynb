{
 "cells": [
  {
   "cell_type": "markdown",
   "metadata": {
    "application/vnd.databricks.v1+cell": {
     "cellMetadata": {},
     "inputWidgets": {},
     "nuid": "25e93f2f-f209-478d-bcf3-2c8aaa13164e",
     "showTitle": false,
     "title": ""
    }
   },
   "source": [
    "# Metadados das Bases Utilizadas"
   ]
  },
  {
   "cell_type": "markdown",
   "metadata": {
    "application/vnd.databricks.v1+cell": {
     "cellMetadata": {},
     "inputWidgets": {},
     "nuid": "603f4290-12c1-4270-a0c2-d2d1f8e501e0",
     "showTitle": false,
     "title": ""
    }
   },
   "source": [
    "**open_interest**\n",
    "\n",
    "|Nome da Coluna|Tipo de Dado|Comentário|\n",
    "|--|--|--|\n",
    "|symbol| texto (str) | Indica qual é o ativo cujo indicador OpenInterest se refere |\n",
    "|sumOpenInterest| texto (str) | Indica a quantidade de contratos ativos no momento |\n",
    "|sumOpenInterestValue| texto (str) | Indica o valor financeiro desses contratos ativos |\n",
    "|Datetime| texto (str) | Indica a data,hora e ms ao qual esse indicador foi extraído |"
   ]
  },
  {
   "cell_type": "markdown",
   "metadata": {
    "application/vnd.databricks.v1+cell": {
     "cellMetadata": {},
     "inputWidgets": {},
     "nuid": "3d728d81-70c8-400b-b94c-e274053e12e4",
     "showTitle": false,
     "title": ""
    }
   },
   "source": [
    "**LONG/SHORT Ratio**\n",
    "\n",
    "|Nome da Coluna|Tipo de Dado|Comentário|\n",
    "|--|--|--|\n",
    "|symbol| texto (str) | Indica qual é o ativo cujo indicador OpenInterest se refere |\n",
    "|Long Account| texto (str) | Indica o % das posições compradas (em long) |\n",
    "|Long/Short Ratio| texto (str) | Indica a relação entre o % das posições compradas e % das posições vendidas |\n",
    "|Short Account| texto (str) | Indica o % das posições vendidas (em short) |\n",
    "|Datetime| texto (str) | Indica a data,hora e ms ao qual esse indicador foi extraído |"
   ]
  },
  {
   "cell_type": "markdown",
   "metadata": {
    "application/vnd.databricks.v1+cell": {
     "cellMetadata": {},
     "inputWidgets": {},
     "nuid": "236265eb-9276-4db4-8d66-5944750663a3",
     "showTitle": false,
     "title": ""
    }
   },
   "source": [
    "**price_data**\n",
    "\n",
    "*obs: tempo gráfico (candle)= 5min\n",
    "\n",
    "|Nome da Coluna|Tipo de Dado|Comentário|\n",
    "|--|--|--|\n",
    "|Open Time| texto (str) | Indica qual é o horário de abertura do candle |\n",
    "|Open| texto (str) | Indica qual o preço de abertura do candle |\n",
    "|High| texto (str) | Indica qual o valor máximo do candle |\n",
    "|Low| texto (str) | Indica qual o valor mínimo do candle |\n",
    "|Close| texto (str) | Indica qual o valor de fechamento do candle |\n",
    "|Volume| texto (str) | Indica o volume total negociado naquele candle |"
   ]
  },
  {
   "cell_type": "markdown",
   "metadata": {
    "application/vnd.databricks.v1+cell": {
     "cellMetadata": {},
     "inputWidgets": {},
     "nuid": "308c8dbc-c0b3-48d4-a16a-a3396cbc49cb",
     "showTitle": false,
     "title": ""
    }
   },
   "source": []
  }
 ],
 "metadata": {
  "application/vnd.databricks.v1+notebook": {
   "dashboards": [],
   "environmentMetadata": null,
   "language": "python",
   "notebookMetadata": {
    "pythonIndentUnit": 4
   },
   "notebookName": "Catálogo de Dados",
   "widgets": {}
  },
  "language_info": {
   "name": "python"
  }
 },
 "nbformat": 4,
 "nbformat_minor": 0
}
